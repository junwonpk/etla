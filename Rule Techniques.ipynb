{
 "cells": [
  {
   "cell_type": "code",
   "execution_count": 45,
   "metadata": {},
   "outputs": [],
   "source": [
    "import random\n",
    "import math\n",
    "import re"
   ]
  },
  {
   "cell_type": "code",
   "execution_count": 31,
   "metadata": {},
   "outputs": [
    {
     "name": "stdout",
     "output_type": "stream",
     "text": [
      "Please help me identify what the dog's breed is.\n"
     ]
    }
   ],
   "source": [
    "requests_for_help = [\n",
    "    \"Please help me understand \",\n",
    "    \"Please help me identify \",\n",
    "    \"Can you help me by telling me \"\n",
    "]\n",
    "\n",
    "def generate_explicit_help(question):\n",
    "    question = question.lower()\n",
    "    question = question.replace(\" is\", \"\")\n",
    "    question = question[:-1] + \" is.\"\n",
    "    \n",
    "    idx = random.randint(0, len(requests_for_help)-1)\n",
    "    return requests_for_help[idx] + question\n",
    "    \n",
    "\n",
    "question = \"What is the dog's breed?\"\n",
    "help_question = generate_explicit_help(question)\n",
    "print help_question"
   ]
  },
  {
   "cell_type": "code",
   "execution_count": 54,
   "metadata": {},
   "outputs": [
    {
     "name": "stdout",
     "output_type": "stream",
     "text": [
      "Beautiful dog! What is the dog's breed????\n"
     ]
    }
   ],
   "source": [
    "\n",
    "\n",
    "def generate_syntax_unity(question, caption):\n",
    "    num_groups = 0\n",
    "    total = 0\n",
    "    current_num = 0\n",
    "    for char in caption:\n",
    "        if char is \"!\" or char is \"?\":\n",
    "            current_num += 1\n",
    "            total += 1\n",
    "        else:\n",
    "            if current_num != 0:\n",
    "                num_groups += 1\n",
    "            current_num = 0\n",
    "    if current_num != 0:\n",
    "        num_groups += 1\n",
    "    \n",
    "    avg_punctuation = int(math.floor(total/num_groups))\n",
    "    \n",
    "    question = question.replace(\"?\", \"?\" * avg_punctuation)\n",
    "    question = question.replace(\"!\", \"!\" * avg_punctuation)\n",
    "    \n",
    "    if total > 3:\n",
    "        question = question.replace(\".\", \"!\")\n",
    "    \n",
    "    return question\n",
    "\n",
    "\n",
    "caption = \"I am happy!!!! What is that!?!?\"\n",
    "question = \"Beautiful dog. What is the dog's breed?\"\n",
    "print(generate_syntax_unity(question, caption))"
   ]
  },
  {
   "cell_type": "code",
   "execution_count": 2,
   "metadata": {},
   "outputs": [],
   "source": [
    "def generate_social_proof(question):\n",
    "    return social_proof"
   ]
  },
  {
   "cell_type": "code",
   "execution_count": 3,
   "metadata": {},
   "outputs": [],
   "source": [
    "def generate_time_scarcity(question):\n",
    "    return time_scarcity"
   ]
  },
  {
   "cell_type": "code",
   "execution_count": null,
   "metadata": {},
   "outputs": [],
   "source": [
    "def get_desired_knowledge():\n",
    "    "
   ]
  }
 ],
 "metadata": {
  "kernelspec": {
   "display_name": "Python 2",
   "language": "python",
   "name": "python2"
  },
  "language_info": {
   "codemirror_mode": {
    "name": "ipython",
    "version": 2
   },
   "file_extension": ".py",
   "mimetype": "text/x-python",
   "name": "python",
   "nbconvert_exporter": "python",
   "pygments_lexer": "ipython2",
   "version": "2.7.14"
  }
 },
 "nbformat": 4,
 "nbformat_minor": 2
}
