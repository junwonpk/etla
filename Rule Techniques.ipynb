{
 "cells": [
  {
   "cell_type": "code",
   "execution_count": 3,
   "metadata": {},
   "outputs": [],
   "source": [
    "import random\n",
    "import math\n",
    "import re"
   ]
  },
  {
   "cell_type": "code",
   "execution_count": 4,
   "metadata": {},
   "outputs": [
    {
     "name": "stdout",
     "output_type": "stream",
     "text": [
      "Please help me understand what the dog's breed is.\n"
     ]
    }
   ],
   "source": [
    "requests_for_help = [\n",
    "    \"Please help me understand \",\n",
    "    \"Please help me identify \",\n",
    "    \"Can you help me by telling me \",\n",
    "    \"Can you help me by identifying \",\n",
    "]\n",
    "\n",
    "def generate_explicit_help(question):\n",
    "    question = question.lower()\n",
    "    question = question.replace(\" is\", \"\")\n",
    "    idx = random.randint(0, len(requests_for_help)-1)\n",
    "    if idx > 1:\n",
    "        question = question[:-1] + \" is?\"\n",
    "    else:\n",
    "        question = question[:-1] + \" is.\" \n",
    "    \n",
    "    return requests_for_help[idx] + question\n",
    "    \n",
    "\n",
    "question = \"What is the dog's breed?\"\n",
    "help_question = generate_explicit_help(question)\n",
    "print help_question"
   ]
  },
  {
   "cell_type": "code",
   "execution_count": 5,
   "metadata": {},
   "outputs": [
    {
     "name": "stdout",
     "output_type": "stream",
     "text": [
      "Beautiful dog! What is the dog's breed????\n"
     ]
    }
   ],
   "source": [
    "def generate_syntax_unity(question, caption):\n",
    "    num_groups = 0\n",
    "    total = 0\n",
    "    current_num = 0\n",
    "    for char in caption:\n",
    "        if char is \"!\" or char is \"?\":\n",
    "            current_num += 1\n",
    "            total += 1\n",
    "        else:\n",
    "            if current_num != 0:\n",
    "                num_groups += 1\n",
    "            current_num = 0\n",
    "    if current_num != 0:\n",
    "        num_groups += 1\n",
    "    \n",
    "    avg_punctuation = int(math.floor(total/num_groups))\n",
    "    \n",
    "    question = question.replace(\"?\", \"?\" * avg_punctuation)\n",
    "    question = question.replace(\"!\", \"!\" * avg_punctuation)\n",
    "    \n",
    "    if total > 3:\n",
    "        question = question.replace(\".\", \"!\")\n",
    "    \n",
    "    return question\n",
    "\n",
    "\n",
    "caption = \"I am happy!!!! Look at my cute dog!!!!\"\n",
    "question = \"Beautiful dog. What is the dog's breed?\"\n",
    "print(generate_syntax_unity(question, caption))"
   ]
  },
  {
   "cell_type": "code",
   "execution_count": 6,
   "metadata": {},
   "outputs": [
    {
     "name": "stdout",
     "output_type": "stream",
     "text": [
      "What is the dog's breed? Please let me know by tomorrow. I have a homework due and have to write the name of this animal.\n"
     ]
    }
   ],
   "source": [
    "time_scarcity_sentences = [\n",
    "    \"Please let me know by tomorrow.\",\n",
    "    \"Can you please let me know by tomorrow?\",\n",
    "    \"Please let me know within the next day.\",\n",
    "    \"Can you please let me know within the next day?\"\n",
    "]\n",
    "\n",
    "def generate_time_scarcity(question):\n",
    "    idx = random.randint(0, len(time_scarcity_sentences)-1)\n",
    "    return question + \" \" + time_scarcity_sentences[idx] + \" I have a homework due and have to write the name of this animal.\"\n",
    "\n",
    "question = \"What is the dog's breed?\"\n",
    "print(generate_time_scarcity(question))"
   ]
  },
  {
   "cell_type": "code",
   "execution_count": 7,
   "metadata": {},
   "outputs": [
    {
     "name": "stdout",
     "output_type": "stream",
     "text": [
      "@polkadotpeep I think it is a dolphin?\n"
     ]
    }
   ],
   "source": [
    "possible_answers = [\"alligator\", \"ant\", \"bear\", \"bee\", \"bird\", \"camel\", \"cat\", \"cheetah\", \"chicken\", \"chimpanzee\", \n",
    "                    \"cow\", \"crocodile\", \"deer\", \"dog\", \"dolphin\", \"duck\", \"eagle\", \"elephant\", \"fish\", \"fly\", \"fox\",\n",
    "                    \"frog\", \"giraffe\", \"goat\", \"goldfish\", \"hamster\", \"hippo\", \"horse\", \"kangaroo\", \"kitten\", \"lion\", \n",
    "                    \"lobster\", \"monkey\", \"octopus\", \"owl\", \"panda\", \"pig\", \"puppy\", \"rabbit\", \"rat\", \"scorpion\", \"seal\",\n",
    "                    \"shark\", \"sheep\", \"snail\", \"snake\", \"spider\", \"squirrel\", \"tiger\", \"turtle\", \"wolf\", \"zebra\"]\n",
    "\n",
    "\n",
    "def generate_social_proof():\n",
    "    if possible_answers != None:\n",
    "        idx = random.randint(0, len(possible_answers)-1)\n",
    "        animal = possible_answers[idx]\n",
    "        if animal[0] == \"a\" or animal[0] == \"e\" or animal[0] == \"o\":\n",
    "             return \"@polkadotpeep I think it is an \" + possible_answers[idx] + \"?\"\n",
    "        \n",
    "        # we can also update to get rid of the \"a\" in the sentence depending on desired knowledge\n",
    "        else:\n",
    "            return \"@polkadotpeep I think it is a \" + possible_answers[idx] + \"?\"\n",
    "    \n",
    "    return \"@polkadotpeep I'm not quite sure either...\"\n",
    "    \n",
    "    \n",
    "print(generate_social_proof())"
   ]
  },
  {
   "cell_type": "code",
   "execution_count": 13,
   "metadata": {},
   "outputs": [
    {
     "name": "stdout",
     "output_type": "stream",
     "text": [
      "What animal is this? Because I am in France right now\n"
     ]
    }
   ],
   "source": [
    "illogical_just = [\"Because I want to make some\", \"Because I am in France right now\",\n",
    "                 \"Because I was ill.\", \"Because we believe in the positive cycle of innovation\",\n",
    "                 \"Because I won't give up.\", \"Because I am a doctor\"]\n",
    "\n",
    "def illogical_justfication(question):\n",
    "    if illogical_just != None:\n",
    "        idx = random.randint(0, len(illogical_just)-1)\n",
    "        justification = illogical_just[idx]\n",
    "        return question + \" \" + illogical_just[idx]\n",
    "       \n",
    "    \n",
    "    return question\n",
    "\n",
    "\n",
    "question = \"What animal is this?\"\n",
    "print(illogical_justfication(question))\n",
    "    "
   ]
  },
  {
   "cell_type": "code",
   "execution_count": null,
   "metadata": {},
   "outputs": [],
   "source": []
  },
  {
   "cell_type": "code",
   "execution_count": null,
   "metadata": {},
   "outputs": [],
   "source": []
  },
  {
   "cell_type": "code",
   "execution_count": null,
   "metadata": {},
   "outputs": [],
   "source": []
  },
  {
   "cell_type": "code",
   "execution_count": null,
   "metadata": {},
   "outputs": [],
   "source": []
  },
  {
   "cell_type": "code",
   "execution_count": null,
   "metadata": {},
   "outputs": [],
   "source": []
  },
  {
   "cell_type": "code",
   "execution_count": null,
   "metadata": {},
   "outputs": [],
   "source": []
  },
  {
   "cell_type": "code",
   "execution_count": null,
   "metadata": {},
   "outputs": [],
   "source": []
  },
  {
   "cell_type": "code",
   "execution_count": 64,
   "metadata": {},
   "outputs": [],
   "source": [
    "question = \"What is this animal?\""
   ]
  },
  {
   "cell_type": "code",
   "execution_count": 65,
   "metadata": {},
   "outputs": [
    {
     "data": {
      "text/plain": [
       "'Please help me identify what this animal is.'"
      ]
     },
     "execution_count": 65,
     "metadata": {},
     "output_type": "execute_result"
    }
   ],
   "source": [
    "generate_explicit_help(question)"
   ]
  },
  {
   "cell_type": "code",
   "execution_count": 68,
   "metadata": {},
   "outputs": [],
   "source": [
    "caption = \"Iguana!\""
   ]
  },
  {
   "cell_type": "code",
   "execution_count": 69,
   "metadata": {},
   "outputs": [
    {
     "data": {
      "text/plain": [
       "'What is this animal?'"
      ]
     },
     "execution_count": 69,
     "metadata": {},
     "output_type": "execute_result"
    }
   ],
   "source": [
    "generate_syntax_unity(question, caption)"
   ]
  },
  {
   "cell_type": "code",
   "execution_count": 126,
   "metadata": {},
   "outputs": [
    {
     "data": {
      "text/plain": [
       "'@polkadotpeep I think it is a chicken?'"
      ]
     },
     "execution_count": 126,
     "metadata": {},
     "output_type": "execute_result"
    }
   ],
   "source": [
    "generate_social_proof()"
   ]
  },
  {
   "cell_type": "code",
   "execution_count": 95,
   "metadata": {},
   "outputs": [
    {
     "data": {
      "text/plain": [
       "'What is this animal? Please let me know by tomorrow. I have a homework due and have to write the name of this animal.'"
      ]
     },
     "execution_count": 95,
     "metadata": {},
     "output_type": "execute_result"
    }
   ],
   "source": [
    "generate_time_scarcity(question)"
   ]
  },
  {
   "cell_type": "code",
   "execution_count": null,
   "metadata": {},
   "outputs": [],
   "source": []
  }
 ],
 "metadata": {
  "kernelspec": {
   "display_name": "Python 2",
   "language": "python",
   "name": "python2"
  },
  "language_info": {
   "codemirror_mode": {
    "name": "ipython",
    "version": 2
   },
   "file_extension": ".py",
   "mimetype": "text/x-python",
   "name": "python",
   "nbconvert_exporter": "python",
   "pygments_lexer": "ipython2",
   "version": "2.7.14"
  }
 },
 "nbformat": 4,
 "nbformat_minor": 2
}
