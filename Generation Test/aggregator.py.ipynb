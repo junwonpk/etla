{
 "cells": [
  {
   "cell_type": "code",
   "execution_count": 44,
   "metadata": {},
   "outputs": [
    {
     "name": "stdout",
     "output_type": "stream",
     "text": [
      "10000\n"
     ]
    }
   ],
   "source": [
    "import json\n",
    "\n",
    "count = 0\n",
    "\n",
    "def writeLine(line, outfile, count):\n",
    "    if not line.endswith(\"\\n\"):\n",
    "        line += \"\\n\"\n",
    "    count += 1\n",
    "    outfile.write(line)\n",
    "    return count\n",
    "    \n",
    "with open(\"generation_test.json\", \"w+\") as outfile:\n",
    "    with open(\"technique0queue.json\", \"r\") as infile1:\n",
    "        with open(\"technique1queue.json\", \"r\") as infile2:\n",
    "            with open(\"technique2queue.json\", \"r\") as infile3:\n",
    "                with open(\"technique3queue.json\", \"r\") as infile4:\n",
    "                    with open(\"technique4queue.json\", \"r\") as infile5:\n",
    "                        with open(\"technique5queue.json\", \"r\") as infile6:\n",
    "                            with open(\"technique6queue.json\", \"r\") as infile7:\n",
    "                                with open(\"technique7queue.json\", \"r\") as infile8:\n",
    "                                    with open(\"technique8queue.json\", \"r\") as infile9:\n",
    "                                        with open(\"technique6queue2.json\", \"r\") as infile10:\n",
    "                                            content1 = infile1.readlines()\n",
    "                                            content2 = infile2.readlines()\n",
    "                                            content3 = infile3.readlines()\n",
    "                                            content4 = infile4.readlines()\n",
    "                                            content5 = infile5.readlines()\n",
    "                                            content6 = infile6.readlines()\n",
    "                                            content7 = infile7.readlines()\n",
    "                                            content8 = infile8.readlines()\n",
    "                                            content9 = infile9.readlines()\n",
    "                                            content10 = infile10.readlines()\n",
    "                                            for i in range(len(content1)):\n",
    "                                                count = writeLine(content1[i], outfile, count)\n",
    "                                                count = writeLine(content2[i], outfile, count)\n",
    "                                                count = writeLine(content3[i], outfile, count)\n",
    "                                                count = writeLine(content4[i], outfile, count)\n",
    "                                                count = writeLine(content5[i], outfile, count)\n",
    "                                                count = writeLine(content6[i], outfile, count)\n",
    "                                                count = writeLine(content7[i], outfile, count)\n",
    "                                                count = writeLine(content8[i], outfile, count)\n",
    "                                                count = writeLine(content9[i], outfile, count)\n",
    "                                                count = writeLine(content10[i], outfile, count)\n",
    "print(count)"
   ]
  },
  {
   "cell_type": "code",
   "execution_count": 45,
   "metadata": {},
   "outputs": [
    {
     "name": "stdout",
     "output_type": "stream",
     "text": [
      "10000\n"
     ]
    }
   ],
   "source": [
    "with open(\"generation_test.json\", \"r\") as infile:\n",
    "    count = 0\n",
    "    for line in infile:\n",
    "        count += 1\n",
    "    print count"
   ]
  },
  {
   "cell_type": "code",
   "execution_count": null,
   "metadata": {},
   "outputs": [],
   "source": []
  }
 ],
 "metadata": {
  "kernelspec": {
   "display_name": "Python 2",
   "language": "python",
   "name": "python2"
  },
  "language_info": {
   "codemirror_mode": {
    "name": "ipython",
    "version": 2
   },
   "file_extension": ".py",
   "mimetype": "text/x-python",
   "name": "python",
   "nbconvert_exporter": "python",
   "pygments_lexer": "ipython2",
   "version": "2.7.15"
  }
 },
 "nbformat": 4,
 "nbformat_minor": 2
}
